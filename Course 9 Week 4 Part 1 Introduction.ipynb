{
 "cells": [
  {
   "cell_type": "markdown",
   "metadata": {},
   "source": [
    "# Project title: Choosing a location to open a coffee shop in Toronto"
   ]
  },
  {
   "cell_type": "markdown",
   "metadata": {},
   "source": [
    "# Part 1: Business Problem"
   ]
  },
  {
   "cell_type": "markdown",
   "metadata": {},
   "source": [
    "A businessman from Toronto, Canada would like to open a coffee shop in his city. There are two questions are raised as: (1) Which neighbourhood will be chosen?; and (2) After choosing a neighbourhood, which specific location should be chosen to open the coffee shop. \n",
    "In order to answers these questions, he needs to consider the following things:\n",
    "- In general, do people in Toronto like coffee and what are their habits for drinking coffee? If they like coffee, where they prefer to enjoy coffee such as café or home or office?\n",
    "- At the smaller scale, which neighbourhood in Toronto seems to consume highest coffee production? Then, he should identify the potential place for opening the coffee shop. "
   ]
  },
  {
   "cell_type": "code",
   "execution_count": null,
   "metadata": {},
   "outputs": [],
   "source": []
  }
 ],
 "metadata": {
  "kernelspec": {
   "display_name": "Python 2",
   "language": "python",
   "name": "python2"
  },
  "language_info": {
   "codemirror_mode": {
    "name": "ipython",
    "version": 2
   },
   "file_extension": ".py",
   "mimetype": "text/x-python",
   "name": "python",
   "nbconvert_exporter": "python",
   "pygments_lexer": "ipython2",
   "version": "2.7.16"
  }
 },
 "nbformat": 4,
 "nbformat_minor": 2
}
