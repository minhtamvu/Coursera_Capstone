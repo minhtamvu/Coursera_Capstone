{
 "cells": [
  {
   "cell_type": "markdown",
   "metadata": {},
   "source": [
    "# Project title: Choosing a location to open a coffee shop in Toronto"
   ]
  },
  {
   "cell_type": "markdown",
   "metadata": {},
   "source": [
    "# Part 2: Data section"
   ]
  },
  {
   "cell_type": "markdown",
   "metadata": {},
   "source": [
    "- For the Toronto neighbourhood data, a Wikipedia page (https://en.wikipedia.org/wiki/List_of_postal_codes_of_Canada:_M) exists that has all the information we need to explore and cluster the neighbourhoods in Toronto. \n",
    "- Using the Foursquare location data to find out the top most common venues for each neighbourhood in Toronto with their frequencies. If coffee shop is on the list of the top most common venues for at least one neighbourhood, opening a coffee shop in Toronto seems to be feasible. \n",
    "- If coffee shop is the top most common venues for several neighbourhoods, we need to find out which neighbourhood can be the best one. In order to obtain this, we should develop a model based on the data and initial results above. A simple model can be built by taking into account with the frequency of café, which is an alternative for consumers to drink a cup of coffee. The critical value is a deduction between frequency of coffee shop and frequency of café (frequency of coffee shop minus frequency of café). A neighbourhood with highest critical value is chosen for opening the coffee shop. This illustrates that people in this neighbourhood really like drinking coffee but they do not really prefer going to a café. Instead of that, they will buy coffee in a coffee shop, and then will drink wherever they want such as home or office. \n",
    "- After choosing a neighbourhood, which specific location should be considered? Using the Foursquare location data to find out the ratings of coffee shops in this neighbourhood. A criteria for choosing a location can be is an area where there are as many as shops with highest ratings. The reasons for that it is easier for more people to recognise/notice a new coffee shop when they visit the existing famous shops or search these shops online. However, this assumption will cause a main drawback, which is how to attract consumers of the existing good shops to buy product in the new shop. The quality and prices of coffee in the new shop can overcome this drawback. However, the quality and prices of the new shop is out of scope for this assignment, and normally this is a responsibility of the new shop owner, not by a data scientist.  \n"
   ]
  },
  {
   "cell_type": "code",
   "execution_count": null,
   "metadata": {},
   "outputs": [],
   "source": []
  }
 ],
 "metadata": {
  "kernelspec": {
   "display_name": "Python 2",
   "language": "python",
   "name": "python2"
  },
  "language_info": {
   "codemirror_mode": {
    "name": "ipython",
    "version": 2
   },
   "file_extension": ".py",
   "mimetype": "text/x-python",
   "name": "python",
   "nbconvert_exporter": "python",
   "pygments_lexer": "ipython2",
   "version": "2.7.16"
  }
 },
 "nbformat": 4,
 "nbformat_minor": 2
}
